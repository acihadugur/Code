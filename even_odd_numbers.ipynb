{
 "cells": [
  {
   "cell_type": "markdown",
   "id": "wrapped-wings",
   "metadata": {},
   "source": [
    "# 1.Soru"
   ]
  },
  {
   "cell_type": "markdown",
   "id": "comparable-begin",
   "metadata": {},
   "source": [
    "Kullanıcıdan 0-20 arasında bir sayı girmesini isteyin, kullanıcı uygun olmayan bir giriş yaparsa uygun\n",
    "giriş yapana kadar belirtilen koşullara uygun bir giriş yapması için uyarı mesajı verin.\n",
    "Kullanıcının girdiği sayı “tek” ise girilen sayının faktöriyelini hesaplayıp ekranda yazdırın\n",
    "Girilen sayı 5 ise ekranda görülecek çıktı: 5! = 120\n",
    "Kullanıcının girdiği sayı “çift” ise 0’dan kullanıcının girdiği sayıya kadar (girilen sayı dahil) olan çift\n",
    "sayıların toplamı ekranda yazılsın\n",
    "Girilen sayı 12 ise ekranda görülecek çıktı: 0’dan 12’ye kadarki çift sayıların toplamı 42"
   ]
  },
  {
   "cell_type": "markdown",
   "id": "right-invalid",
   "metadata": {},
   "source": [
    "# 1.Cevap"
   ]
  },
  {
   "cell_type": "code",
   "execution_count": null,
   "id": "seventh-scotland",
   "metadata": {},
   "outputs": [],
   "source": [
    "#Abdullah Cihad UĞUR - E205043099\n",
    "while True:\n",
    "\n",
    "    sayi = input(\"Lütfen 0 ile 20 arasında bir sayı giriniz...\")\n",
    "    toplamcift = 0\n",
    "\n",
    "    if ( int(sayi) % 2 == 0 and int(sayi) > 0 and int(sayi) < 20 ):\n",
    "\n",
    "        for i in range(0, int(sayi) +1):\n",
    "\n",
    "            if ( i % 2 == 0):\n",
    "\n",
    "                toplamcift += i\n",
    "\n",
    "        print(\"0'dan {}'a kadarki çift sayıların toplamı {}\".format(sayi,toplamcift))\n",
    "\n",
    "\n",
    "    elif (int(sayi) % 2 != 0 and int(sayi) > 0 and int(sayi) < 20 ):\n",
    "\n",
    "        faktoriyel = 1\n",
    "\n",
    "        for i in range(2, int(sayi)+ 1):\n",
    "\n",
    "            faktoriyel *= i\n",
    "\n",
    "        print(\"{}! = {} \".format(sayi, faktoriyel))\n",
    "\n",
    "    else:\n",
    "        print(\"Belirtilen koşul aralığında sayı giriniz...!\")\n",
    "    continue\n"
   ]
  },
  {
   "cell_type": "markdown",
   "id": "cardiovascular-present",
   "metadata": {},
   "source": [
    "# 2.Soru"
   ]
  },
  {
   "cell_type": "markdown",
   "id": "coated-freeware",
   "metadata": {},
   "source": [
    "“personel.txt” isimli bir dosya oluşturun\n",
    "Python kodlarını kullanarak dosyaya en az 7 en fazla 10 adet ad-soyad yazın (her satırda bir ad-soyad olacak, her isim farklı bir harf ile başlayacak ve isimler dosyaya alfabetik sıra ile yazılmayacak)\n",
    "Dosyadaki satır sayısı kod ile sayılacak ve kullanıcıya “ xxx satır veri mevcut, Yeni kayıt yapmak ister misiniz?” diye sorulacak\n",
    "Cevap Evet ise kullanıcı klavye ile yeni ad-soyad bilgisi girecek, kullanıcı giriş yapınca kullanıcının girdiği isim ve eski kayıtlar dosyada alfabetik şekilde sıralanacak\n",
    "Cevap Hayır ise başlangıçta kod ile girilmiş olan ad-soyad bilgileri dosyada alfabetik sıralanacak\n",
    "Giriş ve sıralama işlemlerinden sonra dosyadaki tüm isimler ekranda gösterilecek\n",
    "Program sonlandırılacak"
   ]
  },
  {
   "cell_type": "code",
   "execution_count": null,
   "id": "actual-flash",
   "metadata": {},
   "outputs": [],
   "source": [
    "#Abdullah Cihad UĞUR - E205043099\n",
    "\n",
    "open(\"personel.txt\",\"w+\")\n",
    "file = open(\"personel.txt\",\"w+\", encoding = \"utf-8\")\n",
    "\n",
    "file.write(\"Ahmet-Kocaeli\\nMehmet-Sakarya\\nFatma-İstanbul\\nKadir-Bursa\\nBurak-Denizli\\nOnur-Zonguldak\\nZeynep-Pars\\nCihad-Liver\\n\")\n",
    "\n",
    "file.close()\n",
    "\n",
    "\n",
    "with open(\"personel.txt\", \"a+\",encoding=\"utf-8\") as file:\n",
    "    \n",
    "    cevap = input(\"{}.satır mevcut. Yeni kayıt yapmak ister misiniz?\".format(file.read().count(\"\\n\")))\n",
    "    \n",
    "    if cevap == \"e\" or cevap == \"E\":\n",
    "        \n",
    "        file = open(\"personal.txt\",\"a+\")\n",
    "        adsoyad=input(\"AD-soyad gir:\")\n",
    "        file.writelines(adsoyad+\"\\n\")\n",
    "        file.seek(0)\n",
    "        file.close()\n",
    "        file = open(\"personal.txt\",\"r+\")\n",
    "        sira=file.readlines()\n",
    "        file.seek(0)\n",
    "        sira.sort()\n",
    "        print(sira)\n",
    "        \n",
    "    elif cevap ==\"h\" or cevap == \"H\":\n",
    "        \n",
    "        file = open(\"personal.txt\",\"r+\")\n",
    "        sira=file.readlines()\n",
    "        file.seek(0)\n",
    "        sira.sort()\n",
    "        print(sira)\n",
    "        "
   ]
  },
  {
   "cell_type": "code",
   "execution_count": null,
   "id": "united-registrar",
   "metadata": {},
   "outputs": [],
   "source": []
  }
 ],
 "metadata": {
  "kernelspec": {
   "display_name": "Python 3",
   "language": "python",
   "name": "python3"
  },
  "language_info": {
   "codemirror_mode": {
    "name": "ipython",
    "version": 3
   },
   "file_extension": ".py",
   "mimetype": "text/x-python",
   "name": "python",
   "nbconvert_exporter": "python",
   "pygments_lexer": "ipython3",
   "version": "3.9.1"
  }
 },
 "nbformat": 4,
 "nbformat_minor": 5
}
